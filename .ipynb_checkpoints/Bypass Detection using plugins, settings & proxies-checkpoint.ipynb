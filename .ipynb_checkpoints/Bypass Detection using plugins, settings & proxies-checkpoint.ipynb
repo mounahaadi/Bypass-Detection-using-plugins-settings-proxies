{
 "cells": [
  {
   "cell_type": "markdown",
   "id": "918ded66-5a1e-4758-bd0b-40137a19daa1",
   "metadata": {},
   "source": [
    "------------------------------------------------------------------------------------------------------------------------------------------------------------------------------------------"
   ]
  },
  {
   "cell_type": "markdown",
   "id": "e3927b6b-a149-401a-8081-b1261a7aac95",
   "metadata": {},
   "source": [
    "* First we will try to sign in using selenium\n",
    "* During the process, observe that Google doesn't let you sign in. Instead it says, This browser or app may not be secure."
   ]
  },
  {
   "cell_type": "code",
   "execution_count": 6,
   "id": "fb077298-0a63-4d82-abb7-c3ad53bd4697",
   "metadata": {},
   "outputs": [],
   "source": [
    "# IMPORTING NECESSARY PACKAGES\n",
    "\n",
    "from selenium import webdriver\n",
    "from selenium.webdriver.common.by import By"
   ]
  },
  {
   "cell_type": "code",
   "execution_count": 10,
   "id": "753d830b-241c-43c5-bcaf-8364a02c2bd3",
   "metadata": {},
   "outputs": [],
   "source": [
    "# INITIAL SET UP, BEFORE SCAPING THE WEBSITE\n",
    "\n",
    "url = \"https://accounts.google.com/v3/signin/identifier?continue=https%3A%2F%2Fmyaccount.google.com%2Fintro%2Fsigning-in-to-google&hl=en-US&ifkv=AaSxoQz42FMXtgw1NwLMwClm8SkdadOyMPN0mIhdqoN2AwRzJF5aSW4nult6hZXBQ9en8AuvWKxDiw&service=accountsettings&flowName=GlifWebSignIn&flowEntry=ServiceLogin&dsh=S-1325118439%3A1715532855410193&ddm=0\"\n",
    "\n",
    "driver = webdriver.Chrome()\n",
    "driver.get(url)"
   ]
  },
  {
   "cell_type": "code",
   "execution_count": 15,
   "id": "d46e7c06-8c1e-42f9-9bd9-6cdf5628b96e",
   "metadata": {},
   "outputs": [],
   "source": [
    "# INSERTING GMAIL ID IN THE INPUT FIELD\n",
    "\n",
    "email_input = driver.find_element(By.XPATH, '//*[@id=\"identifierId\"]').send_keys(\"__YOUR_GMAIL_ID__\")"
   ]
  },
  {
   "cell_type": "code",
   "execution_count": 13,
   "id": "3a3c3e95-5b64-447c-95f3-508bef12f3c4",
   "metadata": {},
   "outputs": [],
   "source": [
    "# CLICKING THE NEXT BUTTON\n",
    "\n",
    "next_btn = driver.find_element(By.XPATH, '//*[@id=\"identifierNext\"]/div/button/span').click()"
   ]
  },
  {
   "cell_type": "markdown",
   "id": "858e3dfb-d466-45d2-909f-2134b756ee76",
   "metadata": {},
   "source": [
    "* Since we are not able to sign in using selenium, let's try a library called `undetected_chromedriver`\n",
    "* Command to install `pip install undetected_chromedriver`"
   ]
  },
  {
   "cell_type": "code",
   "execution_count": 1,
   "id": "139c815d-d041-4cf4-a3fe-1712cda1123d",
   "metadata": {},
   "outputs": [],
   "source": [
    "# IMPORTING NECESSARY PACKAGES\n",
    "\n",
    "import undetected_chromedriver as uc\n",
    "from selenium.webdriver.common.by import By"
   ]
  },
  {
   "cell_type": "code",
   "execution_count": 2,
   "id": "e5d16c7d-f9b2-43b9-bebc-14b717931637",
   "metadata": {},
   "outputs": [],
   "source": [
    "# INITIAL SET UP, BEFORE SCAPING THE WEBSITE\n",
    "\n",
    "driver = uc.Chrome()\n",
    "\n",
    "url = \"https://accounts.google.com/v3/signin/identifier?continue=https%3A%2F%2Fmyaccount.google.com%2Fintro%2Fsigning-in-to-google&hl=en-US&ifkv=AaSxoQz42FMXtgw1NwLMwClm8SkdadOyMPN0mIhdqoN2AwRzJF5aSW4nult6hZXBQ9en8AuvWKxDiw&service=accountsettings&flowName=GlifWebSignIn&flowEntry=ServiceLogin&dsh=S-1325118439%3A1715532855410193&ddm=0\"\n",
    "driver.get(url)"
   ]
  },
  {
   "cell_type": "code",
   "execution_count": 3,
   "id": "266cbf8b-cb33-4ab3-9f2d-22b687c60add",
   "metadata": {},
   "outputs": [],
   "source": [
    "# INSERTING GMAIL ID IN THE INPUT FIELD\n",
    "\n",
    "email_input = driver.find_element(By.XPATH, '//*[@id=\"identifierId\"]').send_keys(\"__YOUR_GMAIL_ID__\")"
   ]
  },
  {
   "cell_type": "code",
   "execution_count": 4,
   "id": "565ae3e9-288b-4173-88f8-710fbedf9847",
   "metadata": {},
   "outputs": [],
   "source": [
    "# CLICKING THE NEXT BUTTON\n",
    "\n",
    "next_btn = driver.find_element(By.XPATH, '//*[@id=\"identifierNext\"]/div/button/span').click()"
   ]
  },
  {
   "cell_type": "code",
   "execution_count": 5,
   "id": "8e5d07eb-7727-47d5-82c8-4fd65639c570",
   "metadata": {},
   "outputs": [],
   "source": [
    "password_input = driver.find_element(By.XPATH, '//*[@id=\"password\"]/div[1]/div/div[1]/input').send_keys(\"__YOUR_PASSWORD__\")"
   ]
  },
  {
   "cell_type": "code",
   "execution_count": 6,
   "id": "8acf0a8d-5543-4230-a991-74424bea3860",
   "metadata": {},
   "outputs": [],
   "source": [
    "next_btn = driver.find_element(By.XPATH, '//*[@id=\"passwordNext\"]/div/button/span').click()"
   ]
  },
  {
   "cell_type": "markdown",
   "id": "22aed73f-bc17-471d-96b0-b859ba672aaa",
   "metadata": {},
   "source": [
    "------------------------------------------------------------------------------------------------------------------------------------------------------------------------------------------"
   ]
  },
  {
   "cell_type": "code",
   "execution_count": null,
   "id": "cfb2eda6-6975-4201-8ff8-d501db14a402",
   "metadata": {},
   "outputs": [],
   "source": []
  }
 ],
 "metadata": {
  "kernelspec": {
   "display_name": "Python 3 (ipykernel)",
   "language": "python",
   "name": "python3"
  },
  "language_info": {
   "codemirror_mode": {
    "name": "ipython",
    "version": 3
   },
   "file_extension": ".py",
   "mimetype": "text/x-python",
   "name": "python",
   "nbconvert_exporter": "python",
   "pygments_lexer": "ipython3",
   "version": "3.12.0"
  }
 },
 "nbformat": 4,
 "nbformat_minor": 5
}
